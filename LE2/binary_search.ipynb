{
 "metadata": {
  "language_info": {
   "codemirror_mode": {
    "name": "ipython",
    "version": 3
   },
   "file_extension": ".py",
   "mimetype": "text/x-python",
   "name": "python",
   "nbconvert_exporter": "python",
   "pygments_lexer": "ipython3",
   "version": "3.8.5"
  },
  "orig_nbformat": 4,
  "kernelspec": {
   "name": "python3",
   "display_name": "Python 3.8.5 64-bit"
  },
  "interpreter": {
   "hash": "aee8b7b246df8f9039afb4144a1f6fd8d2ca17a180786b69acc140d282b71a49"
  }
 },
 "nbformat": 4,
 "nbformat_minor": 2,
 "cells": [
  {
   "cell_type": "code",
   "execution_count": 5,
   "metadata": {},
   "outputs": [],
   "source": [
    "def bin_search_first_2(seq, val):\n",
    "    \"\"\"\n",
    "    A binary search returning the index of the first occurrence of a value val within a increasingly ordered sequence\n",
    "    seq. If val is not part of seq, the index of the first value exceeding val is returned, if any. If all elements of\n",
    "    seq are smaller than val, the len of seq is returned.\n",
    "    @param seq: the increasingly ordered sequence to search in\n",
    "    @param val: the value to search for\n",
    "    @return: the lowest index r, such that r == len(seq) or seq[r] >= val\n",
    "    \"\"\"\n",
    "    lo, hi = -1, len(seq)\n",
    "    while lo + 1 != hi:\n",
    "        m = (lo + hi) // 2\n",
    "        if seq[m] < val:\n",
    "            lo = m\n",
    "        else:\n",
    "            hi = m\n",
    "    return hi\n"
   ]
  },
  {
   "cell_type": "code",
   "execution_count": 6,
   "metadata": {},
   "outputs": [],
   "source": [
    "def bin_search_first(list, search_val):\n",
    "    lower, higher = -1, len(list)\n",
    "    while lower + 1 != higher:\n",
    "        center = (lower + higher) // 2\n",
    "        if list[center] < search_val:\n",
    "            lower = center\n",
    "        else:\n",
    "            higher = center\n",
    "    return higher"
   ]
  },
  {
   "cell_type": "code",
   "execution_count": 7,
   "metadata": {},
   "outputs": [
    {
     "output_type": "stream",
     "name": "stdout",
     "text": [
      "10\n0\n0\n15\n14\n"
     ]
    }
   ],
   "source": [
    "    print(bin_search_first([1, 1, 2, 3, 5, 8, 13, 14, 15, 22, 24, 24, 24, 30, 31], 24))\n",
    "    print(bin_search_first([1, 1, 2, 3, 5, 8, 13, 14, 15, 22, 24, 24, 24, 30, 31], 0))\n",
    "    print(bin_search_first([1, 1, 2, 3, 5, 8, 13, 14, 15, 22, 24, 24, 24, 30, 31], 1))\n",
    "    print(bin_search_first([1, 1, 2, 3, 5, 8, 13, 14, 15, 22, 24, 24, 24, 30, 31], 32))\n",
    "    print(bin_search_first([1, 1, 2, 3, 5, 8, 13, 14, 15, 22, 24, 24, 24, 30, 31], 31))\n"
   ]
  },
  {
   "cell_type": "code",
   "execution_count": 34,
   "metadata": {},
   "outputs": [],
   "source": [
    "def bin_search(lst, search_val, lower, higher):\n",
    "    if lower + 1 == higher:\n",
    "        return higher\n",
    "\n",
    "    center = (lower + higher) // 2\n",
    "    if lst[center] < search_val:\n",
    "        return bin_search(lst, search_val, center, higher)\n",
    "    else:\n",
    "        return bin_search(lst, search_val, lower, center)\n",
    "\n",
    "def bin_search_start(lst, search_val):\n",
    "    return bin_search(lst, search_val, -1, len(lst))"
   ]
  },
  {
   "cell_type": "code",
   "execution_count": 35,
   "metadata": {},
   "outputs": [
    {
     "output_type": "stream",
     "name": "stdout",
     "text": [
      "10\n0\n0\n15\n14\n"
     ]
    }
   ],
   "source": [
    "print(bin_search_start([1, 1, 2, 3, 5, 8, 13, 14, 15, 22, 24, 24, 24, 30, 31], 24))\n",
    "print(bin_search_start([1, 1, 2, 3, 5, 8, 13, 14, 15, 22, 24, 24, 24, 30, 31], 0))\n",
    "print(bin_search_start([1, 1, 2, 3, 5, 8, 13, 14, 15, 22, 24, 24, 24, 30, 31], 1))\n",
    "print(bin_search_start([1, 1, 2, 3, 5, 8, 13, 14, 15, 22, 24, 24, 24, 30, 31], 32))\n",
    "print(bin_search_start([1, 1, 2, 3, 5, 8, 13, 14, 15, 22, 24, 24, 24, 30, 31], 31))"
   ]
  },
  {
   "cell_type": "code",
   "execution_count": 36,
   "metadata": {},
   "outputs": [],
   "source": [
    "import timeit\n"
   ]
  },
  {
   "cell_type": "code",
   "execution_count": 38,
   "metadata": {},
   "outputs": [
    {
     "output_type": "stream",
     "name": "stdout",
     "text": [
      "1.12 µs ± 11 ns per loop (mean ± std. dev. of 7 runs, 1000000 loops each)\n"
     ]
    }
   ],
   "source": [
    "%timeit bin_search_start([1, 1, 2, 3, 5, 8, 13, 14, 15, 22, 24, 24, 24, 30, 31], 24)\n"
   ]
  },
  {
   "cell_type": "code",
   "execution_count": 39,
   "metadata": {},
   "outputs": [
    {
     "output_type": "stream",
     "name": "stdout",
     "text": [
      "719 ns ± 22 ns per loop (mean ± std. dev. of 7 runs, 1000000 loops each)\n"
     ]
    }
   ],
   "source": [
    "%timeit bin_search_first([1, 1, 2, 3, 5, 8, 13, 14, 15, 22, 24, 24, 24, 30, 31], 24)\n"
   ]
  },
  {
   "cell_type": "code",
   "execution_count": 40,
   "metadata": {},
   "outputs": [],
   "source": [
    "def inverse(func, y, lo, hi):\n",
    "    \"\"\"\n",
    "    Computes the value of y of the inverse of the monotonously increasing function func.\n",
    "\n",
    "    >>> inverse(lambda x: x ** 2, 13, 0, 13) ** 2\n",
    "    13.000000000000002\n",
    "    >>> 2 ** inverse(lambda x: 2 ** x, 13, 0, 13)\n",
    "    13.0\n",
    "\n",
    "    @param func: the function to invert, must be increasing monotonously\n",
    "    @param y: the value of the function to search for\n",
    "    @param lo: a lower bound of the result, i.e. a value such that f(lo) < y\n",
    "    @param hi: an upper bound of the result, i.e. a value such that f(hi) >= y\n",
    "    @return: the smallest float x, such that f(x) >= y\n",
    "    \"\"\"\n",
    "    m = (lo + hi) / 2\n",
    "    while m != lo and m != hi:\n",
    "        if func(m) < y:\n",
    "            lo = m\n",
    "        else:\n",
    "            hi = m\n",
    "        m = (lo + hi) / 2\n",
    "    return hi\n",
    "\n",
    "\n",
    "def _test_inverse():\n",
    "    print(inverse(lambda x: x ** 2, 13, 0, 13) ** 2)\n",
    "    print(2 ** inverse(lambda x: 2 ** x, 13, 0, 13))\n"
   ]
  },
  {
   "cell_type": "code",
   "execution_count": 41,
   "metadata": {},
   "outputs": [
    {
     "output_type": "stream",
     "name": "stdout",
     "text": [
      "13.000000000000002\n13.0\n"
     ]
    }
   ],
   "source": [
    "_test_inverse()"
   ]
  },
  {
   "cell_type": "code",
   "execution_count": null,
   "metadata": {},
   "outputs": [],
   "source": [
    "def inverse(func, y,)"
   ]
  }
 ]
}