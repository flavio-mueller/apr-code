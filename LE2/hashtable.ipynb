{
 "metadata": {
  "language_info": {
   "codemirror_mode": {
    "name": "ipython",
    "version": 3
   },
   "file_extension": ".py",
   "mimetype": "text/x-python",
   "name": "python",
   "nbconvert_exporter": "python",
   "pygments_lexer": "ipython3",
   "version": "3.8.5"
  },
  "orig_nbformat": 4,
  "kernelspec": {
   "name": "python3",
   "display_name": "Python 3.8.5 64-bit"
  },
  "interpreter": {
   "hash": "aee8b7b246df8f9039afb4144a1f6fd8d2ca17a180786b69acc140d282b71a49"
  }
 },
 "nbformat": 4,
 "nbformat_minor": 2,
 "cells": [
  {
   "cell_type": "code",
   "execution_count": 1,
   "metadata": {},
   "outputs": [],
   "source": [
    "punctuation = '!\"#$%&\\'()*+,-./:;<=>?@[\\\\]^_`{|}~0123456789—“”‘’'\n",
    "punctuation_translation = str.maketrans(punctuation, ' ' * len(punctuation))\n",
    "\n",
    "\n",
    "def words_from_file(file_name, encoding=None):\n",
    "    with open(file_name, encoding=encoding) as f:\n",
    "        for line in f:\n",
    "            for word in line.lower().translate(punctuation_translation).split():\n",
    "                yield word\n",
    "\n",
    "\n",
    "def build_word_list(words):\n",
    "    word_list = []\n",
    "    for word in words:\n",
    "        if word not in word_list:\n",
    "            word_list.append(word)\n",
    "    return word_list\n",
    "\n",
    "\n",
    "def build_word_set(words):\n",
    "    word_set = {word for word in words}\n",
    "    return list(word_set)\n",
    "\n",
    "\n",
    "def analyse_file(collecting_func, file_name, encoding=None):\n",
    "    print('\\ntesting', collecting_func.__name__)\n",
    "    words = collecting_func(words_from_file(file_name, encoding=encoding))\n",
    "    print(len(words))\n",
    "    print(words[:10])\n",
    "\n",
    "\n",
    "def main():\n",
    "    file_name, enc = '../data/shakespeare.txt', 'utf8'\n",
    "    analyse_file(build_word_set, file_name, encoding=enc)\n",
    "    analyse_file(build_word_list, file_name, encoding=enc)\n",
    "\n"
   ]
  },
  {
   "cell_type": "code",
   "execution_count": 2,
   "metadata": {},
   "outputs": [
    {
     "output_type": "stream",
     "name": "stdout",
     "text": [
      "\n",
      "testing build_word_set\n",
      "25814\n",
      "['syllable', 'send', 'ercame', 'countercheck', 'wor', 'lively', 'minions', 'alps', 'fa', 'lark']\n",
      "\n",
      "testing build_word_list\n",
      "25814\n",
      "['the', 'project', 'gutenberg', 'ebook', 'of', 'complete', 'works', 'william', 'shakespeare', 'by']\n"
     ]
    }
   ],
   "source": [
    "main()"
   ]
  },
  {
   "cell_type": "code",
   "execution_count": 3,
   "metadata": {},
   "outputs": [],
   "source": [
    "import random\n",
    "\n",
    "\n",
    "def new_hash_set(table_size):\n",
    "    return tuple([] for _ in range(table_size))\n",
    "\n",
    "\n",
    "def add_to_hash_set(table, elem):\n",
    "    h = hash(elem) % len(table)\n",
    "    if elem not in table[h]:\n",
    "        table[h].append(elem)\n",
    "\n",
    "\n",
    "def remove_from_hash_set(table, elem):\n",
    "    h = hash(elem) % len(table)\n",
    "    if elem in table[h]:\n",
    "        table[h].remove(elem)\n",
    "\n",
    "\n",
    "def is_in_hash_set(table, elem):\n",
    "    h = hash(elem) % len(table)\n",
    "    return elem in table[h]\n",
    "\n",
    "\n",
    "def num_elements(table):\n",
    "    return sum(len(lst) for lst in table)\n",
    "\n",
    "\n",
    "def get_statistics(table):\n",
    "    return sum((len(lst) + 1) * len(lst) // 2 for lst in table if lst) / num_elements(table), \\\n",
    "           max(len(lst) for lst in table)\n",
    "\n",
    "\n",
    "def test_simple_hash_set(table_size=400009, elements_to_insert=300000):\n",
    "    s = new_hash_set(table_size)\n",
    "    for _ in range(elements_to_insert):\n",
    "        r = random.random()\n",
    "        add_to_hash_set(s, r)\n",
    "        assert is_in_hash_set(s, r)\n",
    "    print(num_elements(s), get_statistics(s))\n",
    "\n",
    "\n",
    "def test_word_counting():\n",
    "    file_name, enc = '../data/shakespeare.txt', 'utf8'\n",
    "    word_set = new_hash_set(40013)\n",
    "    for word in words_from_file(file_name, encoding=enc):\n",
    "        add_to_hash_set(word_set, word)\n",
    "    print(num_elements(word_set), get_statistics(word_set))\n",
    "\n",
    "\n",
    "def test_example_13():\n",
    "    s = new_hash_set(13)\n",
    "    for i in [15, 4, 38, 13, 24, 280, 9, 0, 420, 45, 59, 21]:\n",
    "        add_to_hash_set(s, i)\n",
    "    print(num_elements(s), get_statistics(s))\n"
   ]
  },
  {
   "cell_type": "code",
   "execution_count": 43,
   "metadata": {
    "tags": []
   },
   "outputs": [
    {
     "output_type": "stream",
     "name": "stdout",
     "text": [
      "25814 (1.3206012241419385, 6)\n",
      "12 (1.25, 2)\n",
      "300000 (1.3774166666666667, 8)\n",
      "300000 (1.3747233333333333, 8)\n",
      "400000 (1.5001625, 8)\n"
     ]
    }
   ],
   "source": [
    "if __name__ == '__main__':\n",
    "    test_word_counting()\n",
    "    test_example_13()\n",
    "    test_simple_hash_set()\n",
    "    test_simple_hash_set(399999)\n",
    "    test_simple_hash_set(400009, 400000)\n"
   ]
  },
  {
   "cell_type": "code",
   "execution_count": 9,
   "metadata": {},
   "outputs": [],
   "source": [
    "def new_hash_set(table_size):\n",
    "    return tuple([] for _ in range(table_size))\n",
    "\n",
    "\n",
    "def add_to_hash_set(table, elem):\n",
    "    i = hash(elem) % len(table)\n",
    "    if elem not in table[i]:\n",
    "        table[i].append(elem)\n",
    "\n",
    "def remove_from_hash_set(table, elem):\n",
    "    i = hash(elem) % len(table)\n",
    "    if elem in table[i]:\n",
    "        table[i].remove(elem)\n",
    "\n",
    "def is_in_hash_set(table, elem):\n",
    "    i = hash(elem) % len(table)\n",
    "    return elem in table[i]\n",
    "\n",
    "def num_elems(table):\n",
    "    return sum(len(i) for i in table)\n",
    "\n",
    "def get_statistics(table):\n",
    "    return sum((len(lst) + 1) * len(lst) // 2 for lst in table if lst), max(len(i) for i in table)"
   ]
  },
  {
   "cell_type": "code",
   "execution_count": 40,
   "metadata": {},
   "outputs": [
    {
     "output_type": "stream",
     "name": "stdout",
     "text": [
      "162653\n80665\n307641\n134662\n110357\n312162\n360920\n244645\n166816\n278437\n"
     ]
    }
   ],
   "source": [
    "def bin_hashes(n = 10):\n",
    "    for _ in range(n):\n",
    "        print(hash(random.random()) % 400009)\n",
    "\n",
    "bin_hashes()"
   ]
  },
  {
   "cell_type": "code",
   "execution_count": 25,
   "metadata": {},
   "outputs": [
    {
     "output_type": "execute_result",
     "data": {
      "text/plain": [
       "'0b1100001101010000000'"
      ]
     },
     "metadata": {},
     "execution_count": 25
    }
   ],
   "source": [
    "bin(400000)"
   ]
  },
  {
   "cell_type": "code",
   "execution_count": 26,
   "metadata": {},
   "outputs": [
    {
     "output_type": "execute_result",
     "data": {
      "text/plain": [
       "'0b1100001101010001001'"
      ]
     },
     "metadata": {},
     "execution_count": 26
    }
   ],
   "source": [
    "bin(400009)"
   ]
  },
  {
   "cell_type": "code",
   "execution_count": 42,
   "metadata": {},
   "outputs": [
    {
     "output_type": "execute_result",
     "data": {
      "text/plain": [
       "'0b1110111111011011110001101100000011111010100100001100000000000'"
      ]
     },
     "metadata": {},
     "execution_count": 42
    }
   ],
   "source": [
    "bin(hash(random.random()))\n"
   ]
  },
  {
   "cell_type": "code",
   "execution_count": null,
   "metadata": {},
   "outputs": [],
   "source": [
    "00000000000\n",
    "0000000"
   ]
  },
  {
   "cell_type": "code",
   "execution_count": 44,
   "metadata": {},
   "outputs": [
    {
     "output_type": "error",
     "ename": "SyntaxError",
     "evalue": "invalid character in identifier (<ipython-input-44-9a5e989f91e1>, line 4)",
     "traceback": [
      "\u001b[0;36m  File \u001b[0;32m\"<ipython-input-44-9a5e989f91e1>\"\u001b[0;36m, line \u001b[0;32m4\u001b[0m\n\u001b[0;31m    for x in {1:”a”,3:”b”,2:”c”,4:”d”,0:”e”}:\u001b[0m\n\u001b[0m                  ^\u001b[0m\n\u001b[0;31mSyntaxError\u001b[0m\u001b[0;31m:\u001b[0m invalid character in identifier\n"
     ]
    }
   ],
   "source": [
    "for x in {1,3,2,4,0}:\n",
    "  print(x)\n",
    "\n",
    "for x in {1:\"a\",3:\"b\",2:\"c\",4:\"d\",0:\"2\"}:\n",
    "   print(x)\n"
   ]
  },
  {
   "cell_type": "code",
   "execution_count": null,
   "metadata": {},
   "outputs": [],
   "source": []
  }
 ]
}