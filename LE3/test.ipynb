{
 "metadata": {
  "language_info": {
   "codemirror_mode": {
    "name": "ipython",
    "version": 3
   },
   "file_extension": ".py",
   "mimetype": "text/x-python",
   "name": "python",
   "nbconvert_exporter": "python",
   "pygments_lexer": "ipython3",
   "version": 3
  },
  "orig_nbformat": 4
 },
 "nbformat": 4,
 "nbformat_minor": 2,
 "cells": [
  {
   "cell_type": "code",
   "execution_count": null,
   "metadata": {},
   "outputs": [],
   "source": [
    "def queue_3(max_size):\n",
    "    lst = [0] * (max_size + 1)\n",
    "    beg, end = 0,0\n",
    "    length = len(lst)\n",
    "\n",
    "    def add(el):\n",
    "        if (end + 1) % length == beg:\n",
    "            raise IndexError('cant add element to full queue')\n",
    "        lst[end] = el\n",
    "        end = (end + 1) % length\n",
    "\n",
    "    def take():\n",
    "        if end == beg:\n",
    "            raise IndexError('no elements in queue')\n",
    "\n",
    "        el = lst[beg]\n",
    "        beg = (beg + 1) % length\n",
    "        return el\n",
    "\n",
    "    def size():\n",
    "        return (end + length - beg) % length\n",
    "\n",
    "    return Queue(add, take, size)"
   ]
  }
 ]
}